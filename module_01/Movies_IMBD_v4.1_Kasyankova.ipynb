{
 "cells": [
  {
   "cell_type": "code",
   "execution_count": 1,
   "metadata": {},
   "outputs": [],
   "source": [
    "import numpy as np\n",
    "import pandas as pd\n",
    "import seaborn as sns\n",
    "import matplotlib.pyplot as plt\n",
    "from collections import Counter\n",
    "import collections\n",
    "from itertools import combinations"
   ]
  },
  {
   "cell_type": "code",
   "execution_count": 4,
   "metadata": {},
   "outputs": [
    {
     "data": {
      "text/html": [
       "<div>\n",
       "<style scoped>\n",
       "    .dataframe tbody tr th:only-of-type {\n",
       "        vertical-align: middle;\n",
       "    }\n",
       "\n",
       "    .dataframe tbody tr th {\n",
       "        vertical-align: top;\n",
       "    }\n",
       "\n",
       "    .dataframe thead th {\n",
       "        text-align: right;\n",
       "    }\n",
       "</style>\n",
       "<table border=\"1\" class=\"dataframe\">\n",
       "  <thead>\n",
       "    <tr style=\"text-align: right;\">\n",
       "      <th></th>\n",
       "      <th>imdb_id</th>\n",
       "      <th>budget</th>\n",
       "      <th>revenue</th>\n",
       "      <th>original_title</th>\n",
       "      <th>cast</th>\n",
       "      <th>director</th>\n",
       "      <th>tagline</th>\n",
       "      <th>overview</th>\n",
       "      <th>runtime</th>\n",
       "      <th>genres</th>\n",
       "      <th>production_companies</th>\n",
       "      <th>release_date</th>\n",
       "      <th>vote_average</th>\n",
       "      <th>release_year</th>\n",
       "    </tr>\n",
       "  </thead>\n",
       "  <tbody>\n",
       "    <tr>\n",
       "      <th>1026</th>\n",
       "      <td>tt1645170</td>\n",
       "      <td>65000000</td>\n",
       "      <td>179379533</td>\n",
       "      <td>The Dictator</td>\n",
       "      <td>Sacha Baron Cohen|Sayed Badreya|Aasif Mandvi|M...</td>\n",
       "      <td>Larry Charles</td>\n",
       "      <td>kurd</td>\n",
       "      <td>The heroic story of a dictator who risks his l...</td>\n",
       "      <td>83</td>\n",
       "      <td>Comedy</td>\n",
       "      <td>Paramount Pictures</td>\n",
       "      <td>5/15/2012</td>\n",
       "      <td>5.9</td>\n",
       "      <td>2012</td>\n",
       "    </tr>\n",
       "    <tr>\n",
       "      <th>1364</th>\n",
       "      <td>tt0332047</td>\n",
       "      <td>30000000</td>\n",
       "      <td>50451307</td>\n",
       "      <td>Fever Pitch</td>\n",
       "      <td>Drew Barrymore|Jimmy Fallon|Jason Spevack|Jack...</td>\n",
       "      <td>Bobby Farrelly|Peter Farrelly</td>\n",
       "      <td>A Comedy About The Game of Love.</td>\n",
       "      <td>When relaxed and charming Ben Wrightman meets ...</td>\n",
       "      <td>103</td>\n",
       "      <td>Comedy|Drama|Romance</td>\n",
       "      <td>Fox 2000 Pictures|Wildgaze Films|Alan Greenspa...</td>\n",
       "      <td>4/6/2005</td>\n",
       "      <td>5.7</td>\n",
       "      <td>2005</td>\n",
       "    </tr>\n",
       "    <tr>\n",
       "      <th>1199</th>\n",
       "      <td>tt0359950</td>\n",
       "      <td>90000000</td>\n",
       "      <td>188133322</td>\n",
       "      <td>The Secret Life of Walter Mitty</td>\n",
       "      <td>Ben Stiller|Kristen Wiig|Patton Oswalt|Shirley...</td>\n",
       "      <td>Ben Stiller</td>\n",
       "      <td>Stop Dreaming, Start Living</td>\n",
       "      <td>A timid magazine photo manager who lives life ...</td>\n",
       "      <td>114</td>\n",
       "      <td>Adventure|Comedy|Drama|Fantasy</td>\n",
       "      <td>New Line Cinema|Ingenious Media|Twentieth Cent...</td>\n",
       "      <td>12/18/2013</td>\n",
       "      <td>7.0</td>\n",
       "      <td>2013</td>\n",
       "    </tr>\n",
       "    <tr>\n",
       "      <th>199</th>\n",
       "      <td>tt0787474</td>\n",
       "      <td>60000000</td>\n",
       "      <td>108255770</td>\n",
       "      <td>The Boxtrolls</td>\n",
       "      <td>Ben Kingsley|Isaac Hempstead Wright|Elle Fanni...</td>\n",
       "      <td>Graham Annable|Anthony Stacchi</td>\n",
       "      <td>When troubles strikes friends stack together</td>\n",
       "      <td>An orphaned boy raised by underground creature...</td>\n",
       "      <td>97</td>\n",
       "      <td>Animation|Comedy|Family|Fantasy</td>\n",
       "      <td>Laika Entertainment</td>\n",
       "      <td>9/10/2014</td>\n",
       "      <td>6.6</td>\n",
       "      <td>2014</td>\n",
       "    </tr>\n",
       "    <tr>\n",
       "      <th>4</th>\n",
       "      <td>tt2820852</td>\n",
       "      <td>190000000</td>\n",
       "      <td>1506249360</td>\n",
       "      <td>Furious 7</td>\n",
       "      <td>Vin Diesel|Paul Walker|Jason Statham|Michelle ...</td>\n",
       "      <td>James Wan</td>\n",
       "      <td>Vengeance Hits Home</td>\n",
       "      <td>Deckard Shaw seeks revenge against Dominic Tor...</td>\n",
       "      <td>137</td>\n",
       "      <td>Action|Crime|Thriller</td>\n",
       "      <td>Universal Pictures|Original Film|Media Rights ...</td>\n",
       "      <td>4/1/2015</td>\n",
       "      <td>7.3</td>\n",
       "      <td>2015</td>\n",
       "    </tr>\n",
       "  </tbody>\n",
       "</table>\n",
       "</div>"
      ],
      "text/plain": [
       "        imdb_id     budget     revenue                   original_title  \\\n",
       "1026  tt1645170   65000000   179379533                     The Dictator   \n",
       "1364  tt0332047   30000000    50451307                      Fever Pitch   \n",
       "1199  tt0359950   90000000   188133322  The Secret Life of Walter Mitty   \n",
       "199   tt0787474   60000000   108255770                    The Boxtrolls   \n",
       "4     tt2820852  190000000  1506249360                        Furious 7   \n",
       "\n",
       "                                                   cast  \\\n",
       "1026  Sacha Baron Cohen|Sayed Badreya|Aasif Mandvi|M...   \n",
       "1364  Drew Barrymore|Jimmy Fallon|Jason Spevack|Jack...   \n",
       "1199  Ben Stiller|Kristen Wiig|Patton Oswalt|Shirley...   \n",
       "199   Ben Kingsley|Isaac Hempstead Wright|Elle Fanni...   \n",
       "4     Vin Diesel|Paul Walker|Jason Statham|Michelle ...   \n",
       "\n",
       "                            director  \\\n",
       "1026                   Larry Charles   \n",
       "1364   Bobby Farrelly|Peter Farrelly   \n",
       "1199                     Ben Stiller   \n",
       "199   Graham Annable|Anthony Stacchi   \n",
       "4                          James Wan   \n",
       "\n",
       "                                           tagline  \\\n",
       "1026                                          kurd   \n",
       "1364              A Comedy About The Game of Love.   \n",
       "1199                   Stop Dreaming, Start Living   \n",
       "199   When troubles strikes friends stack together   \n",
       "4                              Vengeance Hits Home   \n",
       "\n",
       "                                               overview  runtime  \\\n",
       "1026  The heroic story of a dictator who risks his l...       83   \n",
       "1364  When relaxed and charming Ben Wrightman meets ...      103   \n",
       "1199  A timid magazine photo manager who lives life ...      114   \n",
       "199   An orphaned boy raised by underground creature...       97   \n",
       "4     Deckard Shaw seeks revenge against Dominic Tor...      137   \n",
       "\n",
       "                               genres  \\\n",
       "1026                           Comedy   \n",
       "1364             Comedy|Drama|Romance   \n",
       "1199   Adventure|Comedy|Drama|Fantasy   \n",
       "199   Animation|Comedy|Family|Fantasy   \n",
       "4               Action|Crime|Thriller   \n",
       "\n",
       "                                   production_companies release_date  \\\n",
       "1026                                 Paramount Pictures    5/15/2012   \n",
       "1364  Fox 2000 Pictures|Wildgaze Films|Alan Greenspa...     4/6/2005   \n",
       "1199  New Line Cinema|Ingenious Media|Twentieth Cent...   12/18/2013   \n",
       "199                                 Laika Entertainment    9/10/2014   \n",
       "4     Universal Pictures|Original Film|Media Rights ...     4/1/2015   \n",
       "\n",
       "      vote_average  release_year  \n",
       "1026           5.9          2012  \n",
       "1364           5.7          2005  \n",
       "1199           7.0          2013  \n",
       "199            6.6          2014  \n",
       "4              7.3          2015  "
      ]
     },
     "execution_count": 4,
     "metadata": {},
     "output_type": "execute_result"
    }
   ],
   "source": [
    "data = pd.read_csv('movie_bd_v5.csv')\n",
    "data.sample(5)"
   ]
  },
  {
   "cell_type": "code",
   "execution_count": 5,
   "metadata": {},
   "outputs": [
    {
     "data": {
      "text/html": [
       "<div>\n",
       "<style scoped>\n",
       "    .dataframe tbody tr th:only-of-type {\n",
       "        vertical-align: middle;\n",
       "    }\n",
       "\n",
       "    .dataframe tbody tr th {\n",
       "        vertical-align: top;\n",
       "    }\n",
       "\n",
       "    .dataframe thead th {\n",
       "        text-align: right;\n",
       "    }\n",
       "</style>\n",
       "<table border=\"1\" class=\"dataframe\">\n",
       "  <thead>\n",
       "    <tr style=\"text-align: right;\">\n",
       "      <th></th>\n",
       "      <th>budget</th>\n",
       "      <th>revenue</th>\n",
       "      <th>runtime</th>\n",
       "      <th>vote_average</th>\n",
       "      <th>release_year</th>\n",
       "    </tr>\n",
       "  </thead>\n",
       "  <tbody>\n",
       "    <tr>\n",
       "      <th>count</th>\n",
       "      <td>1.889000e+03</td>\n",
       "      <td>1.889000e+03</td>\n",
       "      <td>1889.000000</td>\n",
       "      <td>1889.000000</td>\n",
       "      <td>1889.000000</td>\n",
       "    </tr>\n",
       "    <tr>\n",
       "      <th>mean</th>\n",
       "      <td>5.431083e+07</td>\n",
       "      <td>1.553653e+08</td>\n",
       "      <td>109.658549</td>\n",
       "      <td>6.140762</td>\n",
       "      <td>2007.860773</td>\n",
       "    </tr>\n",
       "    <tr>\n",
       "      <th>std</th>\n",
       "      <td>4.858721e+07</td>\n",
       "      <td>2.146698e+08</td>\n",
       "      <td>18.017041</td>\n",
       "      <td>0.764763</td>\n",
       "      <td>4.468841</td>\n",
       "    </tr>\n",
       "    <tr>\n",
       "      <th>min</th>\n",
       "      <td>5.000000e+06</td>\n",
       "      <td>2.033165e+06</td>\n",
       "      <td>63.000000</td>\n",
       "      <td>3.300000</td>\n",
       "      <td>2000.000000</td>\n",
       "    </tr>\n",
       "    <tr>\n",
       "      <th>25%</th>\n",
       "      <td>2.000000e+07</td>\n",
       "      <td>3.456058e+07</td>\n",
       "      <td>97.000000</td>\n",
       "      <td>5.600000</td>\n",
       "      <td>2004.000000</td>\n",
       "    </tr>\n",
       "    <tr>\n",
       "      <th>50%</th>\n",
       "      <td>3.800000e+07</td>\n",
       "      <td>8.361541e+07</td>\n",
       "      <td>107.000000</td>\n",
       "      <td>6.100000</td>\n",
       "      <td>2008.000000</td>\n",
       "    </tr>\n",
       "    <tr>\n",
       "      <th>75%</th>\n",
       "      <td>7.200000e+07</td>\n",
       "      <td>1.782626e+08</td>\n",
       "      <td>120.000000</td>\n",
       "      <td>6.600000</td>\n",
       "      <td>2012.000000</td>\n",
       "    </tr>\n",
       "    <tr>\n",
       "      <th>max</th>\n",
       "      <td>3.800000e+08</td>\n",
       "      <td>2.781506e+09</td>\n",
       "      <td>214.000000</td>\n",
       "      <td>8.100000</td>\n",
       "      <td>2015.000000</td>\n",
       "    </tr>\n",
       "  </tbody>\n",
       "</table>\n",
       "</div>"
      ],
      "text/plain": [
       "             budget       revenue      runtime  vote_average  release_year\n",
       "count  1.889000e+03  1.889000e+03  1889.000000   1889.000000   1889.000000\n",
       "mean   5.431083e+07  1.553653e+08   109.658549      6.140762   2007.860773\n",
       "std    4.858721e+07  2.146698e+08    18.017041      0.764763      4.468841\n",
       "min    5.000000e+06  2.033165e+06    63.000000      3.300000   2000.000000\n",
       "25%    2.000000e+07  3.456058e+07    97.000000      5.600000   2004.000000\n",
       "50%    3.800000e+07  8.361541e+07   107.000000      6.100000   2008.000000\n",
       "75%    7.200000e+07  1.782626e+08   120.000000      6.600000   2012.000000\n",
       "max    3.800000e+08  2.781506e+09   214.000000      8.100000   2015.000000"
      ]
     },
     "execution_count": 5,
     "metadata": {},
     "output_type": "execute_result"
    }
   ],
   "source": [
    "data.describe()"
   ]
  },
  {
   "cell_type": "code",
   "execution_count": 7,
   "metadata": {},
   "outputs": [],
   "source": [
    "#создаем словарь для ответов\n",
    "answers = {} \n",
    "\n",
    "#добавляем столбец с прибылью \n",
    "\n",
    "data['profit'] = data['revenue'] - data['budget']\n",
    "\n",
    "#добавляем новую колонку с длиной названий фильмов\n",
    "\n",
    "data['title_len'] = data['original_title'].map(lambda s: len(s))\n",
    "\n",
    "#добавляем новую колонку с обзором\n",
    "\n",
    "data['overview_len'] = data['overview'].map(lambda s: len(s.split()))\n",
    "\n",
    "#добавляем новый столбец с режиссерами\n",
    "\n",
    "data['dir_list'] = data.director.str.split('|')\n",
    "\n",
    "#добавляем новый столбец с жанрами\n",
    "\n",
    "data['genres_list'] = data.genres.str.split('|')\n",
    "\n",
    "#добавляем новый столбец со списком актеров\n",
    "\n",
    "data['cast_list'] = data.cast.str.split('|')\n",
    "\n",
    "#добавляем новый столбец с названиями компаний\n",
    "\n",
    "data['companies_list'] = data.production_companies.str.split('|')\n",
    "\n",
    "#разделяем дату выпуска\n",
    "\n",
    "data['month'] = [int(x.split('/')[0]) for x in data['release_date']]"
   ]
  },
  {
   "cell_type": "markdown",
   "metadata": {},
   "source": [
    "## 1. У какого фильма из списка самый большой бюджет?"
   ]
  },
  {
   "cell_type": "code",
   "execution_count": 15,
   "metadata": {},
   "outputs": [
    {
     "name": "stdout",
     "output_type": "stream",
     "text": [
      "723    Pirates of the Caribbean: On Stranger Tides\n",
      "Name: original_title, dtype: object\n"
     ]
    }
   ],
   "source": [
    "max_budget = data[data.budget == data.budget.max()].original_title\n",
    "print(max_budget)"
   ]
  },
  {
   "cell_type": "markdown",
   "metadata": {},
   "source": [
    "## 2. Какой из фильмов самый длительный (в минутах)?"
   ]
  },
  {
   "cell_type": "code",
   "execution_count": 16,
   "metadata": {},
   "outputs": [
    {
     "name": "stdout",
     "output_type": "stream",
     "text": [
      "        imdb_id  runtime     original_title\n",
      "1157  tt0279111      214  Gods and Generals\n"
     ]
    }
   ],
   "source": [
    "longest_movie = data[['imdb_id','runtime','original_title']].sort_values(['runtime'],ascending=False).head(1)\n",
    "print(longest_movie)"
   ]
  },
  {
   "cell_type": "markdown",
   "metadata": {},
   "source": [
    "\n",
    "## 3. Какой из фильмов самый короткий (в минутах)?"
   ]
  },
  {
   "cell_type": "code",
   "execution_count": 17,
   "metadata": {},
   "outputs": [
    {
     "name": "stdout",
     "output_type": "stream",
     "text": [
      "       imdb_id  runtime   original_title\n",
      "768  tt1449283       63  Winnie the Pooh\n"
     ]
    }
   ],
   "source": [
    "shortest_movie = data[['imdb_id','runtime','original_title']].sort_values(['runtime'],ascending=True).head(1) \n",
    "print(shortest_movie)"
   ]
  },
  {
   "cell_type": "markdown",
   "metadata": {},
   "source": [
    "## 4. Какова средняя длительность фильмов?"
   ]
  },
  {
   "cell_type": "code",
   "execution_count": 18,
   "metadata": {},
   "outputs": [
    {
     "name": "stdout",
     "output_type": "stream",
     "text": [
      "110\n"
     ]
    }
   ],
   "source": [
    "mean_runtime = round(data.runtime.mean())   \n",
    "print(mean_runtime)"
   ]
  },
  {
   "cell_type": "markdown",
   "metadata": {},
   "source": [
    "## 5. Каково медианное значение длительности фильмов?"
   ]
  },
  {
   "cell_type": "code",
   "execution_count": 19,
   "metadata": {},
   "outputs": [
    {
     "name": "stdout",
     "output_type": "stream",
     "text": [
      "107\n"
     ]
    }
   ],
   "source": [
    "median_runtime = data.runtime.median() \n",
    "print(int(median_runtime))"
   ]
  },
  {
   "cell_type": "markdown",
   "metadata": {},
   "source": [
    "## 6. Какой самый прибыльный фильм?"
   ]
  },
  {
   "cell_type": "code",
   "execution_count": 20,
   "metadata": {},
   "outputs": [
    {
     "name": "stdout",
     "output_type": "stream",
     "text": [
      "       imdb_id original_title      profit     budget     revenue\n",
      "239  tt0499549         Avatar  2544505847  237000000  2781505847\n"
     ]
    }
   ],
   "source": [
    "#используем столбец с прибылью\n",
    "profitable_movie = data[['imdb_id','original_title','profit', 'budget', 'revenue']].sort_values(['profit'],ascending=False).head(1) \n",
    "print(profitable_movie)"
   ]
  },
  {
   "cell_type": "markdown",
   "metadata": {},
   "source": [
    "## 7. Какой фильм самый убыточный?"
   ]
  },
  {
   "cell_type": "code",
   "execution_count": 21,
   "metadata": {},
   "outputs": [
    {
     "name": "stdout",
     "output_type": "stream",
     "text": [
      "        imdb_id   original_title     profit     budget   revenue\n",
      "1245  tt1210819  The Lone Ranger -165710090  255000000  89289910\n"
     ]
    }
   ],
   "source": [
    "unprofitable_movie = data[['imdb_id','original_title','profit', 'budget', 'revenue']].sort_values(['profit'],ascending=True).head(1) \n",
    "print(unprofitable_movie)"
   ]
  },
  {
   "cell_type": "markdown",
   "metadata": {},
   "source": [
    "## 8. У скольких фильмов из датасета объем сборов оказался выше бюджета?"
   ]
  },
  {
   "cell_type": "code",
   "execution_count": 22,
   "metadata": {},
   "outputs": [
    {
     "name": "stdout",
     "output_type": "stream",
     "text": [
      "1478\n"
     ]
    }
   ],
   "source": [
    "profits_number = data[data.profit >0]\n",
    "print(len(profits_number))"
   ]
  },
  {
   "cell_type": "markdown",
   "metadata": {},
   "source": [
    "## 9. Какой фильм оказался самым кассовым в 2008 году?"
   ]
  },
  {
   "cell_type": "code",
   "execution_count": 23,
   "metadata": {},
   "outputs": [
    {
     "data": {
      "text/html": [
       "<div>\n",
       "<style scoped>\n",
       "    .dataframe tbody tr th:only-of-type {\n",
       "        vertical-align: middle;\n",
       "    }\n",
       "\n",
       "    .dataframe tbody tr th {\n",
       "        vertical-align: top;\n",
       "    }\n",
       "\n",
       "    .dataframe thead th {\n",
       "        text-align: right;\n",
       "    }\n",
       "</style>\n",
       "<table border=\"1\" class=\"dataframe\">\n",
       "  <thead>\n",
       "    <tr style=\"text-align: right;\">\n",
       "      <th></th>\n",
       "      <th>imdb_id</th>\n",
       "      <th>budget</th>\n",
       "      <th>revenue</th>\n",
       "      <th>original_title</th>\n",
       "      <th>cast</th>\n",
       "      <th>director</th>\n",
       "      <th>tagline</th>\n",
       "      <th>overview</th>\n",
       "      <th>runtime</th>\n",
       "      <th>genres</th>\n",
       "      <th>...</th>\n",
       "      <th>vote_average</th>\n",
       "      <th>release_year</th>\n",
       "      <th>profit</th>\n",
       "      <th>title_len</th>\n",
       "      <th>overview_len</th>\n",
       "      <th>dir_list</th>\n",
       "      <th>genres_list</th>\n",
       "      <th>cast_list</th>\n",
       "      <th>companies_list</th>\n",
       "      <th>month</th>\n",
       "    </tr>\n",
       "  </thead>\n",
       "  <tbody>\n",
       "    <tr>\n",
       "      <th>599</th>\n",
       "      <td>tt0468569</td>\n",
       "      <td>185000000</td>\n",
       "      <td>1001921825</td>\n",
       "      <td>The Dark Knight</td>\n",
       "      <td>Christian Bale|Michael Caine|Heath Ledger|Aaro...</td>\n",
       "      <td>Christopher Nolan</td>\n",
       "      <td>Why So Serious?</td>\n",
       "      <td>Batman raises the stakes in his war on crime. ...</td>\n",
       "      <td>152</td>\n",
       "      <td>Drama|Action|Crime|Thriller</td>\n",
       "      <td>...</td>\n",
       "      <td>8.1</td>\n",
       "      <td>2008</td>\n",
       "      <td>816921825</td>\n",
       "      <td>15</td>\n",
       "      <td>67</td>\n",
       "      <td>[Christopher Nolan]</td>\n",
       "      <td>[Drama, Action, Crime, Thriller]</td>\n",
       "      <td>[Christian Bale, Michael Caine, Heath Ledger, ...</td>\n",
       "      <td>[DC Comics, Legendary Pictures, Warner Bros., ...</td>\n",
       "      <td>7</td>\n",
       "    </tr>\n",
       "  </tbody>\n",
       "</table>\n",
       "<p>1 rows × 22 columns</p>\n",
       "</div>"
      ],
      "text/plain": [
       "       imdb_id     budget     revenue   original_title  \\\n",
       "599  tt0468569  185000000  1001921825  The Dark Knight   \n",
       "\n",
       "                                                  cast           director  \\\n",
       "599  Christian Bale|Michael Caine|Heath Ledger|Aaro...  Christopher Nolan   \n",
       "\n",
       "             tagline                                           overview  \\\n",
       "599  Why So Serious?  Batman raises the stakes in his war on crime. ...   \n",
       "\n",
       "     runtime                       genres  ... vote_average release_year  \\\n",
       "599      152  Drama|Action|Crime|Thriller  ...          8.1         2008   \n",
       "\n",
       "        profit  title_len  overview_len             dir_list  \\\n",
       "599  816921825         15            67  [Christopher Nolan]   \n",
       "\n",
       "                          genres_list  \\\n",
       "599  [Drama, Action, Crime, Thriller]   \n",
       "\n",
       "                                             cast_list  \\\n",
       "599  [Christian Bale, Michael Caine, Heath Ledger, ...   \n",
       "\n",
       "                                        companies_list month  \n",
       "599  [DC Comics, Legendary Pictures, Warner Bros., ...     7  \n",
       "\n",
       "[1 rows x 22 columns]"
      ]
     },
     "execution_count": 23,
     "metadata": {},
     "output_type": "execute_result"
    }
   ],
   "source": [
    "highest_grossing = data[data.release_year == 2008].sort_values(['revenue'],ascending=False).head(1) \n",
    "highest_grossing"
   ]
  },
  {
   "cell_type": "markdown",
   "metadata": {},
   "source": [
    "## 10. Самый убыточный фильм за период с 2012 по 2014 г. (включительно)?"
   ]
  },
  {
   "cell_type": "code",
   "execution_count": 24,
   "metadata": {},
   "outputs": [
    {
     "name": "stdout",
     "output_type": "stream",
     "text": [
      "1245    The Lone Ranger\n",
      "Name: original_title, dtype: object\n"
     ]
    }
   ],
   "source": [
    "years12_14 = data.query('2012<=release_year<=2014')\n",
    "unprofitable12_14 = years12_14[years12_14.profit == years12_14.profit.min()].original_title\n",
    "print(unprofitable12_14)"
   ]
  },
  {
   "cell_type": "markdown",
   "metadata": {},
   "source": [
    "## 11. Какого жанра фильмов больше всего?"
   ]
  },
  {
   "cell_type": "code",
   "execution_count": 25,
   "metadata": {},
   "outputs": [
    {
     "name": "stdout",
     "output_type": "stream",
     "text": [
      "Drama    782\n",
      "dtype: int64\n"
     ]
    }
   ],
   "source": [
    "print(pd.Series(data['genres'].str.cat(sep='|').split('|')).value_counts().head(1))"
   ]
  },
  {
   "cell_type": "markdown",
   "metadata": {},
   "source": [
    "## 12. Фильмы какого жанра чаще всего становятся прибыльными?"
   ]
  },
  {
   "cell_type": "code",
   "execution_count": 26,
   "metadata": {},
   "outputs": [
    {
     "name": "stdout",
     "output_type": "stream",
     "text": [
      "Drama    560\n",
      "dtype: int64\n"
     ]
    }
   ],
   "source": [
    "print(pd.Series(profits_number['genres'].str.cat(sep='|').split('|')).value_counts().head(1))"
   ]
  },
  {
   "cell_type": "markdown",
   "metadata": {},
   "source": [
    "## 13. У какого режиссера самые большие суммарные кассовые сборы?"
   ]
  },
  {
   "cell_type": "code",
   "execution_count": 27,
   "metadata": {},
   "outputs": [
    {
     "name": "stdout",
     "output_type": "stream",
     "text": [
      "                  revenue\n",
      "director                 \n",
      "Peter Jackson  6490593685\n"
     ]
    }
   ],
   "source": [
    "grossing_director = data.groupby(['director'])[['revenue']].sum().sort_values(['revenue'],ascending=False).head(1)\n",
    "print(grossing_director)"
   ]
  },
  {
   "cell_type": "markdown",
   "metadata": {},
   "source": [
    "## 14. Какой режисер снял больше всего фильмов в стиле Action?"
   ]
  },
  {
   "cell_type": "code",
   "execution_count": 28,
   "metadata": {},
   "outputs": [
    {
     "name": "stdout",
     "output_type": "stream",
     "text": [
      "Robert Rodriguez    9\n",
      "Name: dir_list, dtype: int64\n"
     ]
    }
   ],
   "source": [
    "action_movies = data[data.genres.str.contains (\"Action\", na=False)]\n",
    "dir_exploded = action_movies.explode('dir_list')\n",
    "action_director = dir_exploded.dir_list.value_counts().head(1)\n",
    "print(action_director)"
   ]
  },
  {
   "cell_type": "markdown",
   "metadata": {},
   "source": [
    "## 15. Фильмы с каким актером принесли самые высокие кассовые сборы в 2012 году?"
   ]
  },
  {
   "cell_type": "code",
   "execution_count": 29,
   "metadata": {},
   "outputs": [
    {
     "name": "stdout",
     "output_type": "stream",
     "text": [
      "                    revenue\n",
      "cast_list                  \n",
      "Chris Hemsworth  2027450773\n"
     ]
    }
   ],
   "source": [
    "year_2012 = data[data.release_year == 2012]\n",
    "exploded_actor = year_2012.explode('cast_list')\n",
    "grossing_actor = exploded_actor.groupby(['cast_list'])[['revenue']].sum().sort_values(['revenue'],ascending=False).head(1)\n",
    "print(grossing_actor)"
   ]
  },
  {
   "cell_type": "markdown",
   "metadata": {},
   "source": [
    "## 16. Какой актер снялся в большем количестве высокобюджетных фильмов?"
   ]
  },
  {
   "cell_type": "code",
   "execution_count": 30,
   "metadata": {},
   "outputs": [
    {
     "name": "stdout",
     "output_type": "stream",
     "text": [
      "Matt Damon    18\n",
      "Name: cast_list, dtype: int64\n"
     ]
    }
   ],
   "source": [
    "budget_movie = data[data.budget > data.budget.mean()]\n",
    "exploded_actor2 = budget_movie.explode('cast_list')\n",
    "grossing_actor2 = exploded_actor2.cast_list.value_counts().head(1)\n",
    "print(grossing_actor2)"
   ]
  },
  {
   "cell_type": "markdown",
   "metadata": {},
   "source": [
    "## 17. В фильмах какого жанра больше всего снимался Nicolas Cage?"
   ]
  },
  {
   "cell_type": "code",
   "execution_count": 31,
   "metadata": {},
   "outputs": [
    {
     "name": "stdout",
     "output_type": "stream",
     "text": [
      "Action    17\n",
      "dtype: int64\n"
     ]
    }
   ],
   "source": [
    "Cage = data[data.cast.str.contains (\"Nicolas Cage\", na=False)]\n",
    "print(pd.Series(Cage['genres'].str.cat(sep='|').split('|')).value_counts().head(1))"
   ]
  },
  {
   "cell_type": "markdown",
   "metadata": {},
   "source": [
    "## 18. Самый убыточный фильм от Paramount Pictures?"
   ]
  },
  {
   "cell_type": "code",
   "execution_count": 32,
   "metadata": {},
   "outputs": [
    {
     "name": "stdout",
     "output_type": "stream",
     "text": [
      "       imdb_id        original_title    profit\n",
      "925  tt0267626  K-19: The Widowmaker -64831034\n"
     ]
    }
   ],
   "source": [
    "Paramount = data[data.production_companies.str.contains (\"Paramount Pictures\", na=False)]\n",
    "unprofitable_Paramount = Paramount[['imdb_id','original_title','profit']].sort_values(['profit'],ascending=True).head(1) \n",
    "print(unprofitable_Paramount)"
   ]
  },
  {
   "cell_type": "markdown",
   "metadata": {},
   "source": [
    "## 19. Какой год стал самым успешным по суммарным кассовым сборам?"
   ]
  },
  {
   "cell_type": "code",
   "execution_count": 33,
   "metadata": {},
   "outputs": [
    {
     "name": "stdout",
     "output_type": "stream",
     "text": [
      "                  revenue\n",
      "release_year             \n",
      "2015          25449202382\n"
     ]
    }
   ],
   "source": [
    "best_year = data.groupby(['release_year'])[['revenue']].sum().sort_values(['revenue'],ascending=False).head(1)\n",
    "print(best_year)"
   ]
  },
  {
   "cell_type": "markdown",
   "metadata": {},
   "source": [
    "## 20. Какой самый прибыльный год для студии Warner Bros?"
   ]
  },
  {
   "cell_type": "code",
   "execution_count": 34,
   "metadata": {},
   "outputs": [
    {
     "name": "stdout",
     "output_type": "stream",
     "text": [
      "                 revenue\n",
      "release_year            \n",
      "2014          3243064519\n"
     ]
    }
   ],
   "source": [
    "Warner = data[data.production_companies.str.contains (\"Warner Bros\", na=False)]\n",
    "best_Warner = Warner.groupby(['release_year'])[['revenue']].sum().sort_values(['revenue'],ascending=False).head(1) \n",
    "print(best_Warner)"
   ]
  },
  {
   "cell_type": "markdown",
   "metadata": {},
   "source": [
    "## 21. В каком месяце за все годы суммарно вышло больше всего фильмов?"
   ]
  },
  {
   "cell_type": "code",
   "execution_count": 35,
   "metadata": {},
   "outputs": [
    {
     "data": {
      "text/plain": [
       "month\n",
       "9    227\n",
       "dtype: int64"
      ]
     },
     "metadata": {},
     "output_type": "display_data"
    }
   ],
   "source": [
    "pivot_months = data.pivot_table(values='imdb_id',\n",
    "                           index='release_year',\n",
    "                           columns='month',\n",
    "                           fill_value=0,\n",
    "                           aggfunc='count')\n",
    "display(pivot_months.sum().sort_values(ascending=False).head(1))"
   ]
  },
  {
   "cell_type": "markdown",
   "metadata": {},
   "source": [
    "## 22. Сколько суммарно вышло фильмов летом? (за июнь, июль, август)"
   ]
  },
  {
   "cell_type": "code",
   "execution_count": 36,
   "metadata": {},
   "outputs": [
    {
     "data": {
      "text/plain": [
       "450"
      ]
     },
     "metadata": {},
     "output_type": "display_data"
    }
   ],
   "source": [
    "display(pivot_months.sum()[5:8].sum())"
   ]
  },
  {
   "cell_type": "markdown",
   "metadata": {},
   "source": [
    "## 23. Для какого режиссера зима – самое продуктивное время года?"
   ]
  },
  {
   "cell_type": "code",
   "execution_count": 37,
   "metadata": {},
   "outputs": [
    {
     "data": {
      "text/plain": [
       "[('Peter Jackson', 7)]"
      ]
     },
     "metadata": {},
     "output_type": "display_data"
    }
   ],
   "source": [
    "winter = data[(data.month.isin([1,2,12]))] \n",
    "winter_dir = winter.director.str.split('|').sum() \n",
    "display(Counter(winter_dir).most_common(1))"
   ]
  },
  {
   "cell_type": "markdown",
   "metadata": {},
   "source": [
    "## 24. Какая студия дает самые длинные названия своим фильмам по количеству символов?"
   ]
  },
  {
   "cell_type": "code",
   "execution_count": 38,
   "metadata": {},
   "outputs": [
    {
     "name": "stdout",
     "output_type": "stream",
     "text": [
      "companies_list\n",
      "Four By Two Productions    83.0\n",
      "Name: title_len, dtype: float64\n"
     ]
    }
   ],
   "source": [
    "exploded_companies = data.explode('companies_list')\n",
    "title_names = exploded_companies.groupby(['companies_list'])['title_len'].mean().sort_values(ascending=False)\n",
    "print(title_names.head(1))"
   ]
  },
  {
   "cell_type": "markdown",
   "metadata": {},
   "source": [
    "## 25. Описание фильмов какой студии в среднем самые длинные по количеству слов?"
   ]
  },
  {
   "cell_type": "code",
   "execution_count": 39,
   "metadata": {},
   "outputs": [
    {
     "name": "stdout",
     "output_type": "stream",
     "text": [
      "companies_list\n",
      "Midnight Picture Show    175.0\n",
      "Name: overview_len, dtype: float64\n"
     ]
    }
   ],
   "source": [
    "longest_overview = exploded_companies.groupby(['companies_list'])['overview_len'].mean().sort_values(ascending=False)\n",
    "print(longest_overview.head(1))"
   ]
  },
  {
   "cell_type": "markdown",
   "metadata": {},
   "source": [
    "## 26. Какие фильмы входят в 1 процент лучших по рейтингу?"
   ]
  },
  {
   "cell_type": "code",
   "execution_count": 40,
   "metadata": {},
   "outputs": [
    {
     "name": "stdout",
     "output_type": "stream",
     "text": [
      "                                     original_title  vote_average\n",
      "9                                        Inside Out           8.0\n",
      "34                                             Room           8.0\n",
      "118                                    Interstellar           8.0\n",
      "119                         Guardians of the Galaxy           7.9\n",
      "125                              The Imitation Game           8.0\n",
      "128                                       Gone Girl           7.9\n",
      "138                        The Grand Budapest Hotel           7.9\n",
      "370                                       Inception           7.9\n",
      "599                                 The Dark Knight           8.1\n",
      "872                                     The Pianist           7.9\n",
      "1081  The Lord of the Rings: The Return of the King           7.9\n",
      "1183                        The Wolf of Wall Street           7.9\n",
      "1191                               12 Years a Slave           7.9\n",
      "1800                                        Memento           7.9\n"
     ]
    }
   ],
   "source": [
    "top = data[data['vote_average'] > data['vote_average'].quantile(0.99)][['original_title','vote_average']]\n",
    "print(top)"
   ]
  },
  {
   "cell_type": "markdown",
   "metadata": {},
   "source": [
    "## 27. Какие актеры чаще всего снимаются в одном фильме вместе?"
   ]
  },
  {
   "cell_type": "code",
   "execution_count": 41,
   "metadata": {},
   "outputs": [
    {
     "data": {
      "text/plain": [
       "[(('Daniel Radcliffe', 'Rupert Grint'), 8)]"
      ]
     },
     "execution_count": 41,
     "metadata": {},
     "output_type": "execute_result"
    }
   ],
   "source": [
    "data['pairs'] = data['cast_list'].apply(lambda s: list(combinations(s, 2)))\n",
    "data = data.explode('pairs')\n",
    "collections.Counter(data['pairs']).most_common(1)"
   ]
  },
  {
   "cell_type": "code",
   "execution_count": null,
   "metadata": {},
   "outputs": [],
   "source": []
  }
 ],
 "metadata": {
  "kernelspec": {
   "display_name": "Python 3",
   "language": "python",
   "name": "python3"
  },
  "language_info": {
   "codemirror_mode": {
    "name": "ipython",
    "version": 3
   },
   "file_extension": ".py",
   "mimetype": "text/x-python",
   "name": "python",
   "nbconvert_exporter": "python",
   "pygments_lexer": "ipython3",
   "version": "3.8.5"
  }
 },
 "nbformat": 4,
 "nbformat_minor": 4
}
